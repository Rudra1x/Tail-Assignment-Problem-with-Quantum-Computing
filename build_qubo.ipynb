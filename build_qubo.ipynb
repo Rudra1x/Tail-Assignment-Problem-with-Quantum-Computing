{
 "cells": [
  {
   "cell_type": "markdown",
   "id": "63b75c98",
   "metadata": {},
   "source": [
    "### Imports\n",
    "This cell imports all the necessary libraries. We'll need json to load our data and a lot of components from qiskit and qiskit_optimization."
   ]
  },
  {
   "cell_type": "code",
   "execution_count": null,
   "id": "16705a0c",
   "metadata": {},
   "outputs": [
    {
     "name": "stdout",
     "output_type": "stream",
     "text": [
      "Libraries imported successfully.\n"
     ]
    }
   ],
   "source": [
    "#  Cell 1: Imports \n",
    "\n",
    "import json\n",
    "from qiskit_algorithms import VQE,QAOA, NumPyMinimumEigensolver\n",
    "from qiskit_algorithms.optimizers import COBYLA\n",
    "from qiskit_optimization.applications import OptimizationApplication\n",
    "from qiskit_optimization import QuadraticProgram\n",
    "from qiskit_optimization.converters import QuadraticProgramToQubo\n",
    "from qiskit_optimization.algorithms import MinimumEigenOptimizer\n",
    "from qiskit.quantum_info import Pauli, SparsePauliOp\n",
    "from qiskit_aer import AerSimulator\n",
    "from qiskit_aer.primitives import SamplerV2 as AerSampler\n",
    "from qiskit.circuit.library import QAOAAnsatz\n",
    "from qiskit_algorithms import SamplingVQE\n",
    "from qiskit.circuit.library import QAOAAnsatz\n",
    "from qiskit import transpile\n",
    "from qiskit.circuit.library import RealAmplitudes\n",
    "print(\"Libraries imported successfully.\")"
   ]
  },
  {
   "cell_type": "markdown",
   "id": "32778ed0",
   "metadata": {},
   "source": [
    "Load Problem Data\n",
    "This cell loads the problem_data.json file you just created."
   ]
  },
  {
   "cell_type": "code",
   "execution_count": null,
   "id": "179e6cae",
   "metadata": {},
   "outputs": [
    {
     "name": "stdout",
     "output_type": "stream",
     "text": [
      "Loaded 5 flights and 4 tails.\n",
      "Tuning Parameters: {'gamma': 5.0, 'eta': 8.5, 'lambda': 3.0, 'tau': 4.0, 'varphi': 4.0, 'psi': 0.3}\n"
     ]
    }
   ],
   "source": [
    "#  Cell 2: Load Problem Data \n",
    "\n",
    "with open('problem_data.json', 'r') as f:\n",
    "    data = json.load(f)\n",
    "\n",
    "#  Extract data for easier access \n",
    "tails = data['tails']\n",
    "flights = data['flights']\n",
    "costs = data['costs']\n",
    "max_costs = data['max_costs']\n",
    "impossible_pairings = data['impossible_pairings']\n",
    "params = data['tuning_parameters']\n",
    "\n",
    "#  Create quick-access lists of IDs \n",
    "tail_ids = [t['id'] for t in tails]\n",
    "flight_ids = [f['id'] for f in flights]\n",
    "\n",
    "print(f\"Loaded {len(flights)} flights and {len(tails)} tails.\")\n",
    "print(f\"Tuning Parameters: {params}\")"
   ]
  },
  {
   "cell_type": "markdown",
   "id": "d3259453",
   "metadata": {},
   "source": [
    "Initialize Quadratic Program & Define Variables\n",
    "Here, we create the QuadraticProgram object and add our 40 binary variables, one for each (flight, tail) pair. We'll name them q_F1_A101, q_F1_B202, etc."
   ]
  },
  {
   "cell_type": "code",
   "execution_count": null,
   "id": "1ee84ace",
   "metadata": {},
   "outputs": [
    {
     "name": "stdout",
     "output_type": "stream",
     "text": [
      "Added 20 binary variables to the Quadratic Program.\n",
      "First 5 variables: ['q_F1_A101', 'q_F1_B202', 'q_F1_C303', 'q_F1_D404', 'q_F2_A101']\n"
     ]
    }
   ],
   "source": [
    "#  Cell 3: Initialize Quadratic Program & Define Variables \n",
    "\n",
    "# Initialize the Quadratic Program\n",
    "qp = QuadraticProgram(name=\"Tail-Assignment-Problem\")\n",
    "\n",
    "# Add all 40 binary variables (8 flights * 5 tails)\n",
    "# The name format \"q_{f}_{t}\" will be a useful key\n",
    "for f in flight_ids:\n",
    "    for t in tail_ids:\n",
    "        var_name = f\"q_{f}_{t}\"\n",
    "        qp.binary_var(name=var_name)\n",
    "\n",
    "print(f\"Added {len(qp.variables)} binary variables to the Quadratic Program.\")\n",
    "print(\"First 5 variables:\", [var.name for var in qp.variables[:5]])"
   ]
  },
  {
   "cell_type": "markdown",
   "id": "d0978d3a",
   "metadata": {},
   "source": [
    "Define the Objective Function (H_C)This cell builds the objective function $H_C$. We loop through our costs data and add each term to the QuadraticProgram.$$H_C = \\sum_{f \\in F} \\sum_{t \\in T_f} \\left( \\frac{\\text{execcost}_{f,t}}{\\text{maxcost}_f} \\right) q_{f,t}$$"
   ]
  },
  {
   "cell_type": "code",
   "execution_count": null,
   "id": "fe73de17",
   "metadata": {},
   "outputs": [
    {
     "name": "stdout",
     "output_type": "stream",
     "text": [
      "Objective function (H_C) defined and set.\n"
     ]
    }
   ],
   "source": [
    "#  Cell 4: Define the Objective Function (H_C) \n",
    "\n",
    "# The objective is linear, so we build a dictionary of linear terms\n",
    "# {variable_name: coefficient}\n",
    "objective_linear_terms = {}\n",
    "\n",
    "for f, tail_costs in costs.items():\n",
    "    for t, exec_cost in tail_costs.items():\n",
    "        var_name = f\"q_{f}_{t}\"\n",
    "        \n",
    "        # Calculate normalized cost\n",
    "        normalized_cost = exec_cost / max_costs[f]\n",
    "        \n",
    "        # Add the term: (psi * normalized_cost) * q_{f}_{t}\n",
    "        objective_linear_terms[var_name] = params['psi'] * normalized_cost\n",
    "\n",
    "# Set the objective function in the Quadratic Program\n",
    "qp.minimize(linear=objective_linear_terms)\n",
    "\n",
    "print(\"Objective function (H_C) defined and set.\")"
   ]
  },
  {
   "cell_type": "markdown",
   "id": "555c5935",
   "metadata": {},
   "source": [
    "Add Assignment Constraint (H_A)This is the \"one-hot\" constraint: $\\sum_{t} q_{f,t} = 1$ for each flight $f$.Qiskit's qp.linear_constraint makes this easy.$$H_A = \\sum_{f \\in F} \\left( \\sum_{t \\in T} q_{f,t} - 1 \\right)^2$$"
   ]
  },
  {
   "cell_type": "code",
   "execution_count": null,
   "id": "d058a46a",
   "metadata": {},
   "outputs": [
    {
     "name": "stdout",
     "output_type": "stream",
     "text": [
      "Added 5 'H_A' constraints (one per flight).\n"
     ]
    }
   ],
   "source": [
    "#  Cell 5: Add Assignment Constraint (H_A) \n",
    "\n",
    "# H_A: Each flight must be assigned to exactly one tail\n",
    "# We add one constraint for each flight\n",
    "\n",
    "for f in flight_ids:\n",
    "    # Create a dictionary of variables for this constraint: {var_name: 1}\n",
    "    linear_vars = {f\"q_{f}_{t}\": 1 for t in tail_ids}\n",
    "    \n",
    "    # Add the constraint: sum(vars) == 1\n",
    "    # We give it a name 'H_A_F1', 'H_A_F2', etc.\n",
    "    qp.linear_constraint(\n",
    "        linear=linear_vars,\n",
    "        sense=\"==\",\n",
    "        rhs=1,\n",
    "        name=f\"H_A_{f}\"\n",
    "    )\n",
    "\n",
    "print(f\"Added {len(flight_ids)} 'H_A' constraints (one per flight).\")"
   ]
  },
  {
   "cell_type": "markdown",
   "id": "beb8d5d4",
   "metadata": {},
   "source": [
    "Add Aircraft Constraint (H_B4)This constraint penalizes any assignment of a flight $f$ to a tail $t$ that doesn't meet the fleet or seat requirements. This is a simple linear penalty.$$H_{B4} = \\sum_{(f,t) \\in \\text{Invalid}} q_{f,t}$$"
   ]
  },
  {
   "cell_type": "code",
   "execution_count": null,
   "id": "ff46070d",
   "metadata": {},
   "outputs": [
    {
     "name": "stdout",
     "output_type": "stream",
     "text": [
      "Added linear penalties (H_B4) for 13 invalid assignments.\n"
     ]
    }
   ],
   "source": [
    "#  Cell 5b: Add Aircraft Constraint (H_B4) \n",
    "\n",
    "# H_B4: Penalize invalid assignments (wrong fleet or not enough seats)\n",
    "# This is a linear penalty, so we add to the objective.\n",
    "\n",
    "linear_penalty_B4 = {}\n",
    "all_tails_map = {t['id']: t for t in tails}\n",
    "\n",
    "for f in flights:\n",
    "    for t_id in tail_ids:\n",
    "        tail = all_tails_map[t_id]\n",
    "        var_name = f\"q_{f['id']}_{t_id}\"\n",
    "\n",
    "        # Check for incompatibility\n",
    "        is_invalid = False\n",
    "        if f['fleet_req'] != tail['fleet']:\n",
    "            is_invalid = True\n",
    "        if f['seats_req'] > tail['capacity']:\n",
    "            is_invalid = True\n",
    "            \n",
    "        # If it's an invalid assignment, add the penalty 'varphi'\n",
    "        if is_invalid:\n",
    "            linear_penalty_B4[var_name] = params['varphi']\n",
    "\n",
    "# Add these linear penalties to the existing objective\n",
    "qp.minimize(linear=linear_penalty_B4)\n",
    "\n",
    "print(f\"Added linear penalties (H_B4) for {len(linear_penalty_B4)} invalid assignments.\")"
   ]
  },
  {
   "cell_type": "markdown",
   "id": "0cdbf041",
   "metadata": {},
   "source": [
    "Add Maintenance Constraint (H_B3)This constraint penalizes any assignment of a flight $f$ to a tail $t$ if that flight occurs on the tail's required maintenance day.$$H_{B3} = \\sum_{t \\in T_{\\text{main}}} \\sum_{f \\in F_{\\text{day}, t}} q_{f,t}$$"
   ]
  },
  {
   "cell_type": "code",
   "execution_count": null,
   "id": "f2117845",
   "metadata": {},
   "outputs": [
    {
     "name": "stdout",
     "output_type": "stream",
     "text": [
      "Added linear penalties (H_B3) for 0 maintenance conflicts.\n"
     ]
    }
   ],
   "source": [
    "# Cell 5c: Add Maintenance Constraint (H_B3) \n",
    "\n",
    "# H_B3: Penalize assignments on a tail's maintenance day.\n",
    "# This is also a linear penalty added to the objective.\n",
    "\n",
    "linear_penalty_B3 = {}\n",
    "\n",
    "for t in tails:\n",
    "    # Check if this tail requires maintenance\n",
    "    if t['maintenance']:\n",
    "        maint_day = t['maintenance']['day']\n",
    "        \n",
    "        # Find all flights on that day\n",
    "        for f in flights:\n",
    "            if f['departure']['day'] == maint_day:\n",
    "                # This flight is on the maintenance day\n",
    "                var_name = f\"q_{f['id']}_{t['id']}\"\n",
    "                \n",
    "                # Add the penalty 'tau'\n",
    "                linear_penalty_B3[var_name] = params['tau']\n",
    "\n",
    "# Add these linear penalties to the existing objective\n",
    "qp.minimize(linear=linear_penalty_B3)\n",
    "\n",
    "print(f\"Added linear penalties (H_B3) for {len(linear_penalty_B3)} maintenance conflicts.\")"
   ]
  },
  {
   "cell_type": "markdown",
   "id": "f3f0ab82",
   "metadata": {},
   "source": [
    "Add Impossible Pairings Constraint (H_B1)This constraint penalizes any solution where two operationally impossible flights (like F1 and F2) are assigned to the same tail. This is a quadratic penalty.$$H_{B1} = \\sum_{t \\in T} \\sum_{(f, f') \\in I_f} q_{f,t} \\cdot q_{f',t}$$"
   ]
  },
  {
   "cell_type": "code",
   "execution_count": null,
   "id": "2a897414",
   "metadata": {},
   "outputs": [
    {
     "name": "stdout",
     "output_type": "stream",
     "text": [
      "Added quadratic penalties (H_B1) for 2 impossible pairs across 4 tails.\n"
     ]
    }
   ],
   "source": [
    "#  Cell 5d: Add Impossible Pairings Constraint (H_B1) \n",
    "\n",
    "# H_B1: Penalize assigning impossible flight pairs to the *same tail*.\n",
    "# This is a quadratic penalty: eta * q_{f,t} * q_{f',t}\n",
    "\n",
    "quadratic_penalty_B1 = {}\n",
    "\n",
    "for t_id in tail_ids:\n",
    "    # For each pair of flights (f1, f2) that are impossible to pair\n",
    "    for f1, f2 in impossible_pairings:\n",
    "        \n",
    "        var1_name = f\"q_{f1}_{t_id}\"\n",
    "        var2_name = f\"q_{f2}_{t_id}\"\n",
    "        \n",
    "        # Add the quadratic penalty term\n",
    "        # Qiskit handles (var1, var2) or (var2, var1) the same\n",
    "        quadratic_penalty_B1[(var1_name, var2_name)] = params['eta']\n",
    "\n",
    "# Add these quadratic penalties to the existing objective\n",
    "qp.minimize(quadratic=quadratic_penalty_B1)\n",
    "\n",
    "print(f\"Added quadratic penalties (H_B1) for {len(impossible_pairings)} impossible pairs across {len(tail_ids)} tails.\")"
   ]
  },
  {
   "cell_type": "markdown",
   "id": "2d386f53",
   "metadata": {},
   "source": [
    "Convert to Ising Hamiltonian\n",
    "This is the key step you asked about. We have defined our problem as a QuadraticProgram. \n",
    "\n",
    "Now, we'll use Qiskit's converters to:Convert the constrained QuadraticProgram into an unconstrained QUBO.\n",
    " This automatically adds the penalties ($\\gamma H_A$).\n",
    " \n",
    " Convert the QUBO (using 0/1 variables) into an Ising Hamiltonian (using -1/+1 spins).Note: For simplicity, I'm only including $H_A$ for this first conversion. We would add the other constraints ($H_{B1}$, $H_{B2}$, etc.) in the same way as Cell 5 before running this."
   ]
  },
  {
   "cell_type": "code",
   "execution_count": null,
   "id": "6fdf3296",
   "metadata": {},
   "outputs": [
    {
     "name": "stdout",
     "output_type": "stream",
     "text": [
      "Full Quadratic Program summary (with all constraints):\n",
      "Problem name: Tail-Assignment-Problem\n",
      "\n",
      "Minimize\n",
      "  8.5*q_F1_A101*q_F2_A101 + 8.5*q_F1_B202*q_F2_B202 + 8.5*q_F1_C303*q_F2_C303\n",
      "  + 8.5*q_F1_D404*q_F2_D404 + 8.5*q_F3_A101*q_F5_A101 + 8.5*q_F3_B202*q_F5_B202\n",
      "  + 8.5*q_F3_C303*q_F5_C303 + 8.5*q_F3_D404*q_F5_D404\n",
      "\n",
      "Subject to\n",
      "  Linear constraints (5)\n",
      "    q_F1_A101 + q_F1_B202 + q_F1_C303 + q_F1_D404 == 1  'H_A_F1'\n",
      "    q_F2_A101 + q_F2_B202 + q_F2_C303 + q_F2_D404 == 1  'H_A_F2'\n",
      "    q_F3_A101 + q_F3_B202 + q_F3_C303 + q_F3_D404 == 1  'H_A_F3'\n",
      "    q_F4_A101 + q_F4_B202 + q_F4_C303 + q_F4_D404 == 1  'H_A_F4'\n",
      "    q_F5_A101 + q_F5_B202 + q_F5_C303 + q_F5_D404 == 1  'H_A_F5'\n",
      "\n",
      "  Binary variables (20)\n",
      "    q_F1_A101 q_F1_B202 q_F1_C303 q_F1_D404 q_F2_A101 q_F2_B202 q_F2_C303\n",
      "    q_F2_D404 q_F3_A101 q_F3_B202 q_F3_C303 q_F3_D404 q_F4_A101 q_F4_B202\n",
      "    q_F4_C303 q_F4_D404 q_F5_A101 q_F5_B202 q_F5_C303 q_F5_D404\n",
      "\n",
      "\n",
      "==============================\n",
      "\n",
      "Full QUBO summary (all constraints & objective combined):\n",
      "QUBO has 20 linear terms\n",
      "QUBO has 58 quadratic terms\n",
      "\n",
      "==============================\n",
      "\n",
      "Ising Hamiltonian (operator form):\n",
      "SparsePauliOp(['IIIIIIIIIIIIIIIIIIIZ', 'IIIIIIIIIIIIIIIIIIZI', 'IIIIIIIIIIIIIIIIIZII', 'IIIIIIIIIIIIIIIIZIII', 'IIIIIIIIIIIIIIIZIIII', 'IIIIIIIIIIIIIIZIIIII', 'IIIIIIIIIIIIIZIIIIII', 'IIIIIIIIIIIIZIIIIIII', 'IIIIIIIIIIIZIIIIIIII', 'IIIIIIIIIIZIIIIIIIII', 'IIIIIIIIIZIIIIIIIIII', 'IIIIIIIIZIIIIIIIIIII', 'IIIIIIIZIIIIIIIIIIII', 'IIIIIIZIIIIIIIIIIIII', 'IIIIIZIIIIIIIIIIIIII', 'IIIIZIIIIIIIIIIIIIII', 'IIIZIIIIIIIIIIIIIIII', 'IIZIIIIIIIIIIIIIIIII', 'IZIIIIIIIIIIIIIIIIII', 'ZIIIIIIIIIIIIIIIIIII', 'IIIIIIIIIIIIIIIIIIZZ', 'IIIIIIIIIIIIIIIIIZIZ', 'IIIIIIIIIIIIIIIIZIIZ', 'IIIIIIIIIIIIIIIZIIIZ', 'IIIIIIIIIIIIIIIIIZZI', 'IIIIIIIIIIIIIIIIZIZI', 'IIIIIIIIIIIIIIZIIIZI', 'IIIIIIIIIIIIIIIIZZII', 'IIIIIIIIIIIIIZIIIZII', 'IIIIIIIIIIIIZIIIZIII', 'IIIIIIIIIIIIIIZZIIII', 'IIIIIIIIIIIIIZIZIIII', 'IIIIIIIIIIIIZIIZIIII', 'IIIIIIIIIIIIIZZIIIII', 'IIIIIIIIIIIIZIZIIIII', 'IIIIIIIIIIIIZZIIIIII', 'IIIIIIIIIIZZIIIIIIII', 'IIIIIIIIIZIZIIIIIIII', 'IIIIIIIIZIIZIIIIIIII', 'IIIZIIIIIIIZIIIIIIII', 'IIIIIIIIIZZIIIIIIIII', 'IIIIIIIIZIZIIIIIIIII', 'IIZIIIIIIIZIIIIIIIII', 'IIIIIIIIZZIIIIIIIIII', 'IZIIIIIIIZIIIIIIIIII', 'ZIIIIIIIZIIIIIIIIIII', 'IIIIIIZZIIIIIIIIIIII', 'IIIIIZIZIIIIIIIIIIII', 'IIIIZIIZIIIIIIIIIIII', 'IIIIIZZIIIIIIIIIIIII', 'IIIIZIZIIIIIIIIIIIII', 'IIIIZZIIIIIIIIIIIIII', 'IIZZIIIIIIIIIIIIIIII', 'IZIZIIIIIIIIIIIIIIII', 'ZIIZIIIIIIIIIIIIIIII', 'IZZIIIIIIIIIIIIIIIII', 'ZIZIIIIIIIIIIIIIIIII', 'ZZIIIIIIIIIIIIIIIIII'],\n",
      "              coeffs=[-7.125+0.j, -7.125+0.j, -7.125+0.j, -7.125+0.j, -7.125+0.j, -7.125+0.j,\n",
      " -7.125+0.j, -7.125+0.j, -7.125+0.j, -7.125+0.j, -7.125+0.j, -7.125+0.j,\n",
      " -5.   +0.j, -5.   +0.j, -5.   +0.j, -5.   +0.j, -7.125+0.j, -7.125+0.j,\n",
      " -7.125+0.j, -7.125+0.j,  2.5  +0.j,  2.5  +0.j,  2.5  +0.j,  2.125+0.j,\n",
      "  2.5  +0.j,  2.5  +0.j,  2.125+0.j,  2.5  +0.j,  2.125+0.j,  2.125+0.j,\n",
      "  2.5  +0.j,  2.5  +0.j,  2.5  +0.j,  2.5  +0.j,  2.5  +0.j,  2.5  +0.j,\n",
      "  2.5  +0.j,  2.5  +0.j,  2.5  +0.j,  2.125+0.j,  2.5  +0.j,  2.5  +0.j,\n",
      "  2.125+0.j,  2.5  +0.j,  2.125+0.j,  2.125+0.j,  2.5  +0.j,  2.5  +0.j,\n",
      "  2.5  +0.j,  2.5  +0.j,  2.5  +0.j,  2.5  +0.j,  2.5  +0.j,  2.5  +0.j,\n",
      "  2.5  +0.j,  2.5  +0.j,  2.5  +0.j,  2.5  +0.j])\n",
      "\n",
      "Ising Offset (constant energy): 67.0\n"
     ]
    }
   ],
   "source": [
    "#  Cell 6: Convert Full Problem to Ising \n",
    "\n",
    "print(\"Full Quadratic Program summary (with all constraints):\")\n",
    "print(qp.prettyprint())\n",
    "print(\"\\n\" + \"=\"*30 + \"\\n\")\n",
    "\n",
    "# 1. Create a converter to turn constraints (H_A) into penalties\n",
    "#    All other penalties (H_B1, B3, B4) are already in the objective\n",
    "qp_to_qubo = QuadraticProgramToQubo(penalty=params['gamma'])\n",
    "qubo = qp_to_qubo.convert(qp)\n",
    "\n",
    "print(\"Full QUBO summary (all constraints & objective combined):\")\n",
    "# This QUBO will be much larger and denser\n",
    "# print(qubo.prettyprint()) # Uncomment to see the full QUBO\n",
    "print(f\"QUBO has {len(qubo.objective.linear.to_dict())} linear terms\")\n",
    "print(f\"QUBO has {len(qubo.objective.quadratic.to_dict())} quadratic terms\")\n",
    "print(\"\\n\" + \"=\"*30 + \"\\n\")\n",
    "\n",
    "\n",
    "# 2. Create a converter to map the QUBO (0/1) to an Ising model (-1/+1)\n",
    "# 2. Convert QUBO to Ising Hamiltonian using Qiskit's built-in method\n",
    "ising_hamiltonian, ising_offset = qubo.to_ising()\n",
    "\n",
    "print(f\"Ising Hamiltonian (operator form):\")\n",
    "print(ising_hamiltonian)\n",
    "print(f\"\\nIsing Offset (constant energy): {ising_offset}\")\n",
    "\n",
    "# This 'ising_hamiltonian' is the final operator to feed into QAOA"
   ]
  },
  {
   "cell_type": "markdown",
   "id": "61951ce3",
   "metadata": {},
   "source": [
    "Set Up Solvers (Classical and Quantum)\n",
    "First, we'll set up a classical solver (NumPyMinimumEigensolver) to find the exact correct answer. This gives us a baseline to check our quantum result against.\n",
    "\n",
    "Then, we'll set up the QAOA algorithm. It needs:\n",
    "\n",
    "A Sampler: This is the \"backend\" that runs the quantum circuit. We'll use a fast AerSimulator.\n",
    "\n",
    "An Optimizer: This is the classical part that tunes the QAOA circuit's parameters. COBYLA is a good choice."
   ]
  },
  {
   "cell_type": "code",
   "execution_count": null,
   "id": "ed9dc4be",
   "metadata": {},
   "outputs": [
    {
     "name": "stdout",
     "output_type": "stream",
     "text": [
      "Classical and QAOA solvers initialized.\n"
     ]
    }
   ],
   "source": [
    "#  Cell 7: Set Up Solvers (Classical and Quantum) \n",
    "\n",
    "#  1. Classical Baseline Solver \n",
    "# This solver finds the exact ground truth answer to the Ising problem.\n",
    "numpy_solver = NumPyMinimumEigensolver()\n",
    "\n",
    "\n",
    "#  2. Quantum QAOA Solver \n",
    "\n",
    "# a) Set up the classical optimizer that QAOA will use\n",
    "# This optimizer finds the best angles (gamma, beta) for the circuit\n",
    "optimizer = COBYLA(maxiter=200)\n",
    "\n",
    "# b) Set up the quantum backend\n",
    "# We'll use a local Aer simulator\n",
    "# For a real quantum computer, you would change this.\n",
    "sampler = AerSampler()\n",
    "\n",
    "# c) Create the QAOA instance\n",
    "qaoa = QAOA(\n",
    "    sampler=sampler,\n",
    "    optimizer=optimizer,\n",
    "    reps=1  # 'p' value for QAOA. Start with 1 layer.\n",
    ")\n",
    "\n",
    "print(\"Classical and QAOA solvers initialized.\")"
   ]
  },
  {
   "cell_type": "markdown",
   "id": "c56a0f57",
   "metadata": {},
   "source": [
    "Execute the Solvers\n",
    "Now, we run both solvers on our ising_hamiltonian. This will take a moment, especially the QAOA part."
   ]
  },
  {
   "cell_type": "code",
   "execution_count": null,
   "id": "359082fe",
   "metadata": {},
   "outputs": [
    {
     "name": "stdout",
     "output_type": "stream",
     "text": [
      "Classical and VQE solvers initialized.\n"
     ]
    }
   ],
   "source": [
    "#  Cell 7 (Revised): Set Up Solvers (Classical and VQE) \n",
    "from qiskit_algorithms import SamplingVQE\n",
    "#  1. Classical Baseline Solver \n",
    "numpy_solver = NumPyMinimumEigensolver()\n",
    "\n",
    "\n",
    "#  2. Quantum VQE Solver \n",
    "\n",
    "# a) Set up the classical optimizer\n",
    "optimizer = COBYLA(maxiter=200)\n",
    "\n",
    "# b) Set up the quantum primitive\n",
    "# VQE needs an Estimator to find the energy (eigenvalue)\n",
    "#estimator = Estimator()\n",
    "\n",
    "# c) Manually create the QAOA 'ansatz' (circuit)\n",
    "#    We use the Ising Hamiltonian from Cell 6\n",
    "ansatz = QAOAAnsatz(cost_operator=ising_hamiltonian, reps=1)\n",
    "\n",
    "# d) Create the VQE instance\n",
    "#    VQE *does* accept an 'ansatz' argument.\n",
    "vqe = SamplingVQE(\n",
    "    sampler=sampler,\n",
    "    ansatz=ansatz,\n",
    "    optimizer=optimizer\n",
    ")\n",
    "\n",
    "print(\"Classical and VQE solvers initialized.\")"
   ]
  },
  {
   "cell_type": "code",
   "execution_count": null,
   "id": "e5b5cdd8",
   "metadata": {},
   "outputs": [
    {
     "name": "stdout",
     "output_type": "stream",
     "text": [
      "Classical and QAOA Optimizers initialized for 20 qubits.\n"
     ]
    }
   ],
   "source": [
    "# Cell 7 (QAOA Version): Set Up Optimizers \n",
    "\n",
    "#  1. Classical Baseline Solver \n",
    "numpy_solver = NumPyMinimumEigensolver()\n",
    "\n",
    "#  2. Quantum Solver (SamplingVQE + QAOAAnsatz) \n",
    "\n",
    "# a) Set up the classical optimizer\n",
    "optimizer = COBYLA(maxiter=500)  # High iterations\n",
    "\n",
    "# b) Set up the quantum backend\n",
    "sampler = AerSampler()\n",
    "\n",
    "# c) Create the QAOA ansatz circuit\n",
    "#    'ising_hamiltonian' \n",
    "ansatz = QAOAAnsatz(cost_operator=ising_hamiltonian, reps=3) # High reps\n",
    "\n",
    "# d) Transpile the ansatz for the Aer simulator\n",
    "aer_backend = AerSimulator()\n",
    "transpiled_ansatz = transpile(ansatz, backend=aer_backend)\n",
    "\n",
    "# e) Create the raw solver: SamplingVQE\n",
    "#    (We use SamplingVQE as the \"engine\" for our QAOA ansatz)\n",
    "sampling_vqe_qaoa = SamplingVQE(\n",
    "    sampler=sampler,\n",
    "    optimizer=optimizer,\n",
    "    ansatz=transpiled_ansatz\n",
    ")\n",
    "\n",
    "# 3. Create the High-Level Optimizers \n",
    "# Wrap the raw solvers in the MinimumEigenOptimizer\n",
    "numpy_optimizer = MinimumEigenOptimizer(numpy_solver)\n",
    "qaoa_optimizer = MinimumEigenOptimizer(sampling_vqe_qaoa)\n",
    "\n",
    "\n",
    "print(f\"Classical and QAOA Optimizers initialized for {ansatz.num_qubits} qubits.\")"
   ]
  },
  {
   "cell_type": "code",
   "execution_count": null,
   "id": "796a1bd6",
   "metadata": {},
   "outputs": [
    {
     "name": "stdout",
     "output_type": "stream",
     "text": [
      "--- Running Classical Optimizer (Baseline) ---\n",
      "Classical optimizer finished.\n",
      "\n",
      "--- Running QAOA Optimizer ---\n",
      "Classical optimizer finished.\n",
      "\n",
      "--- Running QAOA Optimizer ---\n",
      "QAOA optimizer finished.\n",
      "\n",
      "--- Results (Final Cost) ---\n",
      "Classical (Exact) Cost: 0.0000\n",
      "QAOA (Quantum) Cost:    0.0000\n",
      "QAOA optimizer finished.\n",
      "\n",
      "--- Results (Final Cost) ---\n",
      "Classical (Exact) Cost: 0.0000\n",
      "QAOA (Quantum) Cost:    0.0000\n"
     ]
    }
   ],
   "source": [
    "#  Cell 8: Execute the Optimizers \n",
    "\n",
    "print(\"--- Running Classical Optimizer (Baseline) ---\")\n",
    "# We pass the QUBO (from Cell 6) to the .solve() method\n",
    "classical_result = numpy_optimizer.solve(qubo)\n",
    "print(\"Classical optimizer finished.\")\n",
    "\n",
    "\n",
    "print(\"\\n--- Running QAOA Optimizer ---\")\n",
    "# We pass the same QUBO to the QAOA-based optimizer\n",
    "qaoa_result = qaoa_optimizer.solve(qubo)\n",
    "print(\"QAOA optimizer finished.\")\n",
    "\n",
    "\n",
    "print(\"\\n--- Results (Final Cost) ---\")\n",
    "# .fval is the final function value (cost). No offset needed.\n",
    "print(f\"Classical (Exact) Cost: {classical_result.fval:.4f}\")\n",
    "print(f\"QAOA (Quantum) Cost:    {qaoa_result.fval:.4f}\")"
   ]
  },
  {
   "cell_type": "code",
   "execution_count": null,
   "id": "36728e6b",
   "metadata": {},
   "outputs": [
    {
     "name": "stdout",
     "output_type": "stream",
     "text": [
      "Parsing Classical (Exact) Solution:\n",
      "\n",
      "--- Optimal Schedule ---\n",
      "Assign Flight F1 -> Tail B202\n",
      "Assign Flight F2 -> Tail A101\n",
      "Assign Flight F3 -> Tail B202\n",
      "Assign Flight F4 -> Tail A101\n",
      "Assign Flight F5 -> Tail A101\n",
      "\n",
      "Parsing QAOA Solution:\n",
      "\n",
      "--- Optimal Schedule ---\n",
      "Assign Flight F1 -> Tail A101\n",
      "Assign Flight F2 -> Tail D404\n",
      "Assign Flight F3 -> Tail C303\n",
      "Assign Flight F4 -> Tail D404\n",
      "Assign Flight F5 -> Tail A101\n"
     ]
    }
   ],
   "source": [
    "#  Cell 9: Interpret the Solution \n",
    "\n",
    "def get_solution_assignments(solution, qubo): # 'solution' is an OptimizationResult\n",
    "    \"\"\"Parses an OptimizationResult and maps it to flight assignments.\"\"\"\n",
    "    \n",
    "    # .x is the binary string (e.g., [0, 1, 0, 0, ...])\n",
    "    solution_bits = solution.x\n",
    "    \n",
    "    # Create a reverse map from variable index to name\n",
    "    var_names = [var.name for var in qubo.variables]\n",
    "    \n",
    "    assignments = {}\n",
    "    total_cost = 0\n",
    "    \n",
    "    print(\"\\n--- Optimal Schedule ---\")\n",
    "    for i, bit in enumerate(solution_bits):\n",
    "        if bit == 1:\n",
    "            var_name = var_names[i]\n",
    "            # var_name is \"q_{f}_{t}\", so split it\n",
    "            _, f_id, t_id = var_name.split('_')\n",
    "            \n",
    "            print(f\"Assign Flight {f_id} -> Tail {t_id}\")\n",
    "            assignments[f_id] = t_id\n",
    "\n",
    "    return assignments\n",
    "\n",
    "#  Use the helper function \n",
    "# Pass the results from Cell 8\n",
    "print(\"Parsing Classical (Exact) Solution:\")\n",
    "classical_assignments = get_solution_assignments(classical_result, qubo)\n",
    "\n",
    "print(\"\\nParsing QAOA Solution:\")\n",
    "qaoa_assignments = get_solution_assignments(qaoa_result, qubo)"
   ]
  },
  {
   "cell_type": "code",
   "execution_count": null,
   "id": "665283cf",
   "metadata": {},
   "outputs": [
    {
     "name": "stderr",
     "output_type": "stream",
     "text": [
      "C:\\Users\\ASUS\\AppData\\Local\\Temp\\ipykernel_22388\\4053735373.py:10: DeprecationWarning: The class ``qiskit.circuit.library.n_local.real_amplitudes.RealAmplitudes`` is deprecated as of Qiskit 2.1. It will be removed in Qiskit 3.0. Use the function qiskit.circuit.library.real_amplitudes instead.\n",
      "  ansatz = RealAmplitudes(num_qubits, entanglement='linear', reps=3)\n"
     ]
    },
    {
     "name": "stdout",
     "output_type": "stream",
     "text": [
      "Classical and VQE Optimizers initialized for 20 qubits.\n"
     ]
    }
   ],
   "source": [
    "#  Cell 7 (VQE Version - Revised): Set Up Optimizers \n",
    "\n",
    "#  1. Classical Baseline Solver \n",
    "numpy_solver = NumPyMinimumEigensolver()\n",
    "\n",
    "#  2. Quantum Solver (SamplingVQE + RealAmplitudes Ansatz) \n",
    "optimizer = COBYLA(maxiter=500)\n",
    "sampler = AerSampler()\n",
    "num_qubits = ising_hamiltonian.num_qubits\n",
    "ansatz = RealAmplitudes(num_qubits, entanglement='linear', reps=3)\n",
    "aer_backend = AerSimulator()\n",
    "transpiled_ansatz = transpile(ansatz, backend=aer_backend)\n",
    "\n",
    "# Create the raw VQE solver instance\n",
    "sampling_vqe = SamplingVQE(\n",
    "    sampler=sampler,\n",
    "    optimizer=optimizer,\n",
    "    ansatz=transpiled_ansatz\n",
    ")\n",
    "\n",
    "#  3. Create the High-Level Optimizers \n",
    "# Wrap the raw solvers in the MinimumEigenOptimizer\n",
    "# This is the class that knows how to translate the results back to binary\n",
    "numpy_optimizer = MinimumEigenOptimizer(numpy_solver)\n",
    "vqe_optimizer = MinimumEigenOptimizer(sampling_vqe)\n",
    "\n",
    "print(f\"Classical and VQE Optimizers initialized for {num_qubits} qubits.\")"
   ]
  },
  {
   "cell_type": "code",
   "execution_count": null,
   "id": "a203f05c",
   "metadata": {},
   "outputs": [
    {
     "name": "stdout",
     "output_type": "stream",
     "text": [
      "--- Running Classical Optimizer (Baseline) ---\n",
      "Classical optimizer finished.\n",
      "\n",
      "--- Running VQE Optimizer ---\n",
      "Classical optimizer finished.\n",
      "\n",
      "--- Running VQE Optimizer ---\n",
      "VQE optimizer finished.\n",
      "\n",
      "--- Results (Final Cost) ---\n",
      "Classical (Exact) Cost: 0.0000\n",
      "VQE (Quantum) Cost:     0.0000\n",
      "VQE optimizer finished.\n",
      "\n",
      "--- Results (Final Cost) ---\n",
      "Classical (Exact) Cost: 0.0000\n",
      "VQE (Quantum) Cost:     0.0000\n"
     ]
    }
   ],
   "source": [
    "#  Cell 8: Execute the Optimizers \n",
    "\n",
    "print(\"--- Running Classical Optimizer (Baseline) ---\")\n",
    "# We pass the QUBO (from Cell 6) to the .solve() method\n",
    "classical_result = numpy_optimizer.solve(qubo)\n",
    "print(\"Classical optimizer finished.\")\n",
    "\n",
    "\n",
    "print(\"\\n--- Running VQE Optimizer ---\")\n",
    "# We pass the same QUBO to the VQE-based optimizer\n",
    "vqe_result = vqe_optimizer.solve(qubo)\n",
    "print(\"VQE optimizer finished.\")\n",
    "\n",
    "\n",
    "print(\"\\n--- Results (Final Cost) ---\")\n",
    "# .fval is the final function value (cost). No offset needed.\n",
    "print(f\"Classical (Exact) Cost: {classical_result.fval:.4f}\")\n",
    "print(f\"VQE (Quantum) Cost:     {vqe_result.fval:.4f}\")"
   ]
  },
  {
   "cell_type": "code",
   "execution_count": null,
   "id": "fb992847",
   "metadata": {},
   "outputs": [
    {
     "name": "stdout",
     "output_type": "stream",
     "text": [
      "Parsing Classical (Exact) Solution:\n",
      "\n",
      "--- Optimal Schedule ---\n",
      "Assign Flight F1 -> Tail B202\n",
      "Assign Flight F2 -> Tail A101\n",
      "Assign Flight F3 -> Tail B202\n",
      "Assign Flight F4 -> Tail A101\n",
      "Assign Flight F5 -> Tail A101\n",
      "\n",
      "Parsing VQE Solution:\n",
      "\n",
      "--- Optimal Schedule ---\n",
      "Assign Flight F1 -> Tail A101\n",
      "Assign Flight F2 -> Tail B202\n",
      "Assign Flight F3 -> Tail C303\n",
      "Assign Flight F4 -> Tail B202\n",
      "Assign Flight F5 -> Tail D404\n"
     ]
    }
   ],
   "source": [
    "# Cell 9: Interpret the Solution\n",
    "\n",
    "def get_solution_assignments(solution, qubo): # Renamed 'result' to 'solution'\n",
    "    \"\"\"Parses an OptimizationResult and maps it to flight assignments.\"\"\"\n",
    "    \n",
    "    # .x is the binary string (e.g., [0, 1, 0, 0, ...])\n",
    "    solution_bits = solution.x  # <-- THE FIX\n",
    "    \n",
    "    # Create a reverse map from variable index to name\n",
    "    var_names = [var.name for var in qubo.variables]\n",
    "    \n",
    "    assignments = {}\n",
    "    total_cost = 0\n",
    "    \n",
    "    print(\"\\n--- Optimal Schedule ---\")\n",
    "    for i, bit in enumerate(solution_bits):\n",
    "        if bit == 1:\n",
    "            var_name = var_names[i]\n",
    "            # var_name is \"q_{f}_{t}\", so split it\n",
    "            _, f_id, t_id = var_name.split('_')\n",
    "            \n",
    "            print(f\"Assign Flight {f_id} -> Tail {t_id}\")\n",
    "            assignments[f_id] = t_id\n",
    "\n",
    "    return assignments\n",
    "\n",
    "#  Use the helper function \n",
    "# Now we pass the correct OptimizationResult objects\n",
    "print(\"Parsing Classical (Exact) Solution:\")\n",
    "classical_assignments = get_solution_assignments(classical_result, qubo)\n",
    "\n",
    "print(\"\\nParsing VQE Solution:\")\n",
    "vqe_assignments = get_solution_assignments(vqe_result, qubo)"
   ]
  }
 ],
 "metadata": {
  "kernelspec": {
   "display_name": ".venv",
   "language": "python",
   "name": "python3"
  },
  "language_info": {
   "codemirror_mode": {
    "name": "ipython",
    "version": 3
   },
   "file_extension": ".py",
   "mimetype": "text/x-python",
   "name": "python",
   "nbconvert_exporter": "python",
   "pygments_lexer": "ipython3",
   "version": "3.10.7"
  }
 },
 "nbformat": 4,
 "nbformat_minor": 5
}
